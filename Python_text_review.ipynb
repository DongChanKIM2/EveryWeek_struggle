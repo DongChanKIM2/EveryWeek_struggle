{
 "cells": [
  {
   "cell_type": "markdown",
   "metadata": {},
   "source": [
    "# FINAL REVIEW"
   ]
  },
  {
   "cell_type": "markdown",
   "metadata": {},
   "source": [
    "## Ch00 Intro"
   ]
  },
  {
   "cell_type": "markdown",
   "metadata": {},
   "source": [
    "- 주소: id\n",
    "- 주소 비교: a is b\n",
    "- 주소가 같다면 동일한 객체(object)\n",
    "- 보이는 게 전부가 아니다"
   ]
  },
  {
   "cell_type": "code",
   "execution_count": 2,
   "metadata": {
    "scrolled": true
   },
   "outputs": [
    {
     "data": {
      "text/plain": [
       "True"
      ]
     },
     "execution_count": 2,
     "metadata": {},
     "output_type": "execute_result"
    }
   ],
   "source": [
    "a = 1\n",
    "b = 1\n",
    "a is b"
   ]
  },
  {
   "cell_type": "markdown",
   "metadata": {},
   "source": [
    "- 식별자 키워드"
   ]
  },
  {
   "cell_type": "code",
   "execution_count": 6,
   "metadata": {},
   "outputs": [
    {
     "name": "stdout",
     "output_type": "stream",
     "text": [
      "['False', 'None', 'True', 'and', 'as', 'assert', 'async', 'await', 'break', 'class', 'continue', 'def', 'del', 'elif', 'else', 'except', 'finally', 'for', 'from', 'global', 'if', 'import', 'in', 'is', 'lambda', 'nonlocal', 'not', 'or', 'pass', 'raise', 'return', 'try', 'while', 'with', 'yield']\n"
     ]
    }
   ],
   "source": [
    "import keyword\n",
    "\n",
    "print(keyword.kwlist)"
   ]
  },
  {
   "cell_type": "markdown",
   "metadata": {},
   "source": [
    "- 정수\n",
    "    - 파이썬에서 표현할 수 있는 가장 큰 수: sys.maxsize\n",
    "        + 파이선은 임의 정밀도 산술을 사용 \n",
    "        + C언어와 달리 정수 자료형에서 오버플로우가 없음\n",
    "            - 오버플로우: 데이터 타입 별 사용 가능한 메미로기 제한된 것\n",
    "            - 임의 정밀도 산술: 메모리가 제한되지 않고 부족하면 다른데서 끌어서 사용"
   ]
  },
  {
   "cell_type": "code",
   "execution_count": 8,
   "metadata": {},
   "outputs": [
    {
     "name": "stdout",
     "output_type": "stream",
     "text": [
      "9223372036854775807\n",
      "85070591730234615847396907784232501249\n"
     ]
    }
   ],
   "source": [
    "import sys\n",
    "\n",
    "max_int = sys.maxsize\n",
    "print(max_int)\n",
    "print(max_int ** 2)"
   ]
  },
  {
   "cell_type": "markdown",
   "metadata": {},
   "source": [
    "- 실수\n",
    "    - 부동소수점을 사용해 값이 항상 일치하진 않음\n",
    "        - 부동소수점이란 소수점의 위치를 고정하지 않고 이진수로 표현한 것\n",
    "        - 이진수이므로 1/3 = 0.3 + 0.03 +.. 근사값을 구하게 됨     \n",
    "    - 근사값 문제 해결 방법\n",
    "        1. abs\n",
    "        2. sys.float_info.epsilon\n",
    "        3. math.isclose"
   ]
  },
  {
   "cell_type": "markdown",
   "metadata": {},
   "source": [
    "- String 표현방법\n",
    "    1. formatting('hello, %s' % name)\n",
    "    2. str.format('내 성적은 {}' % format(score))\n",
    "    3. f-string('내 성적은 {score}')"
   ]
  },
  {
   "cell_type": "code",
   "execution_count": 10,
   "metadata": {},
   "outputs": [
    {
     "name": "stdout",
     "output_type": "stream",
     "text": [
      "False\n",
      "False\n",
      "False\n",
      "True\n"
     ]
    }
   ],
   "source": [
    "# bool quiz\n",
    "print(bool())\n",
    "print(bool(0.0))\n",
    "print(bool(None))\n",
    "print(bool('0.0'))"
   ]
  },
  {
   "cell_type": "code",
   "execution_count": null,
   "metadata": {},
   "outputs": [],
   "source": [
    "- 형변환\n",
    "    - 암시적 형변환: 자동 변환(str -> int 가능)(str -> float 불가능)\n",
    "    - 명시적 형변환: 내가 int, float 등 Type 변경 처리"
   ]
  },
  {
   "cell_type": "code",
   "execution_count": null,
   "metadata": {},
   "outputs": [],
   "source": [
    "- 논리 연산자\n",
    "    - and: False 찾아내려고 노력\n",
    "    - or: True 찾아내려고 노력"
   ]
  },
  {
   "cell_type": "markdown",
   "metadata": {},
   "source": [
    "## Ch01 Data type 속성"
   ]
  },
  {
   "cell_type": "markdown",
   "metadata": {},
   "source": [
    "<center><img src=\"https://user-images.githubusercontent.com/18046097/61180439-44e60d80-a651-11e9-9adc-e60fa57c2165.png\", alt=\"container\"/></center>"
   ]
  },
  {
   "cell_type": "code",
   "execution_count": null,
   "metadata": {},
   "outputs": [],
   "source": [
    "### muttable 확인 사이트: pythontutor"
   ]
  },
  {
   "cell_type": "markdown",
   "metadata": {},
   "source": [
    "\n",
    "## 시퀀스에서 활용할 수 있는 연산자/함수 \n",
    "\n",
    "|operation|설명|\n",
    "|---------|---|\n",
    "|x `in` s\t|containment test|\n",
    "|x `not in` s|containment test|\n",
    "|s1 `+` s2|concatenation|\n",
    "|s `*` n|n번만큼 반복하여 더하기\n",
    "|`s[i]`|indexing|\n",
    "|`s[i:j]`|slicing|\n",
    "|`s[i:j:k`]|k간격으로 slicing|\n",
    "|len(s)|길이|\n",
    "|min(s)|최솟값|\n",
    "|max(s)|최댓값|\n",
    "|s.count(x)|x의 개수|"
   ]
  },
  {
   "cell_type": "markdown",
   "metadata": {},
   "source": [
    "## Ch02 제어문"
   ]
  },
  {
   "cell_type": "markdown",
   "metadata": {},
   "source": [
    "### [연습] while 문 작성하기\n",
    "> 사용자가 \"안녕\"이라고 입력할 때까지 인사하는 코드를 작성해보세요."
   ]
  },
  {
   "cell_type": "code",
   "execution_count": 17,
   "metadata": {},
   "outputs": [
    {
     "name": "stdout",
     "output_type": "stream",
     "text": [
      "녕안\n",
      "안녕\n",
      "안녕\n"
     ]
    }
   ],
   "source": [
    "n = input()\n",
    "while n != '안녕':\n",
    "    n = input()\n",
    "    print(n)"
   ]
  },
  {
   "cell_type": "markdown",
   "metadata": {},
   "source": [
    "# [응용] 한자리 씩 출력하기\n",
    "\n",
    "> 사용자로부터 숫자 입력 받은 양의 정수의 각 자리 수를 1의 자리부터 차례대로 출력하는 코드를 작성해보세요."
   ]
  },
  {
   "cell_type": "code",
   "execution_count": 18,
   "metadata": {},
   "outputs": [
    {
     "name": "stdout",
     "output_type": "stream",
     "text": [
      "edcba\n"
     ]
    }
   ],
   "source": [
    "s = 'abcde'\n",
    "print(s[::-1])  # 'edcba'"
   ]
  },
  {
   "cell_type": "code",
   "execution_count": 39,
   "metadata": {},
   "outputs": [
    {
     "name": "stdout",
     "output_type": "stream",
     "text": [
      "e\n",
      "d\n",
      "c\n",
      "b\n",
      "a\n"
     ]
    }
   ],
   "source": [
    "s = 'abcde'\n",
    "s_list = list(s)\n",
    "s_list.reverse()  # 기존 문자열을 역순으로 담아줄 빈 문자열 선언\n",
    "for char in s_list:\n",
    "      print(char)"
   ]
  },
  {
   "cell_type": "code",
   "execution_count": 40,
   "metadata": {},
   "outputs": [
    {
     "name": "stdout",
     "output_type": "stream",
     "text": [
      "(0, '짜장면')\n",
      "(1, '초밥')\n",
      "(2, '피자')\n",
      "(3, '햄버거')\n"
     ]
    }
   ],
   "source": [
    "# enumerate\n",
    "lunch = ['짜장면', '초밥', '피자', '햄버거']\n",
    "for i in enumerate(lunch):\n",
    "    print(i)"
   ]
  },
  {
   "cell_type": "markdown",
   "metadata": {},
   "source": [
    "## Ch03~04 Function"
   ]
  },
  {
   "cell_type": "markdown",
   "metadata": {},
   "source": [
    "- Built in Function 도 하나의 함수입니다"
   ]
  },
  {
   "cell_type": "code",
   "execution_count": 41,
   "metadata": {
    "scrolled": true
   },
   "outputs": [
    {
     "data": {
      "text/plain": [
       "['ArithmeticError',\n",
       " 'AssertionError',\n",
       " 'AttributeError',\n",
       " 'BaseException',\n",
       " 'BlockingIOError',\n",
       " 'BrokenPipeError',\n",
       " 'BufferError',\n",
       " 'BytesWarning',\n",
       " 'ChildProcessError',\n",
       " 'ConnectionAbortedError',\n",
       " 'ConnectionError',\n",
       " 'ConnectionRefusedError',\n",
       " 'ConnectionResetError',\n",
       " 'DeprecationWarning',\n",
       " 'EOFError',\n",
       " 'Ellipsis',\n",
       " 'EnvironmentError',\n",
       " 'Exception',\n",
       " 'False',\n",
       " 'FileExistsError',\n",
       " 'FileNotFoundError',\n",
       " 'FloatingPointError',\n",
       " 'FutureWarning',\n",
       " 'GeneratorExit',\n",
       " 'IOError',\n",
       " 'ImportError',\n",
       " 'ImportWarning',\n",
       " 'IndentationError',\n",
       " 'IndexError',\n",
       " 'InterruptedError',\n",
       " 'IsADirectoryError',\n",
       " 'KeyError',\n",
       " 'KeyboardInterrupt',\n",
       " 'LookupError',\n",
       " 'MemoryError',\n",
       " 'ModuleNotFoundError',\n",
       " 'NameError',\n",
       " 'None',\n",
       " 'NotADirectoryError',\n",
       " 'NotImplemented',\n",
       " 'NotImplementedError',\n",
       " 'OSError',\n",
       " 'OverflowError',\n",
       " 'PendingDeprecationWarning',\n",
       " 'PermissionError',\n",
       " 'ProcessLookupError',\n",
       " 'RecursionError',\n",
       " 'ReferenceError',\n",
       " 'ResourceWarning',\n",
       " 'RuntimeError',\n",
       " 'RuntimeWarning',\n",
       " 'StopAsyncIteration',\n",
       " 'StopIteration',\n",
       " 'SyntaxError',\n",
       " 'SyntaxWarning',\n",
       " 'SystemError',\n",
       " 'SystemExit',\n",
       " 'TabError',\n",
       " 'TimeoutError',\n",
       " 'True',\n",
       " 'TypeError',\n",
       " 'UnboundLocalError',\n",
       " 'UnicodeDecodeError',\n",
       " 'UnicodeEncodeError',\n",
       " 'UnicodeError',\n",
       " 'UnicodeTranslateError',\n",
       " 'UnicodeWarning',\n",
       " 'UserWarning',\n",
       " 'ValueError',\n",
       " 'Warning',\n",
       " 'WindowsError',\n",
       " 'ZeroDivisionError',\n",
       " '__IPYTHON__',\n",
       " '__build_class__',\n",
       " '__debug__',\n",
       " '__doc__',\n",
       " '__import__',\n",
       " '__loader__',\n",
       " '__name__',\n",
       " '__package__',\n",
       " '__spec__',\n",
       " 'abs',\n",
       " 'all',\n",
       " 'any',\n",
       " 'ascii',\n",
       " 'bin',\n",
       " 'bool',\n",
       " 'breakpoint',\n",
       " 'bytearray',\n",
       " 'bytes',\n",
       " 'callable',\n",
       " 'chr',\n",
       " 'classmethod',\n",
       " 'compile',\n",
       " 'complex',\n",
       " 'copyright',\n",
       " 'credits',\n",
       " 'delattr',\n",
       " 'dict',\n",
       " 'dir',\n",
       " 'display',\n",
       " 'divmod',\n",
       " 'enumerate',\n",
       " 'eval',\n",
       " 'exec',\n",
       " 'filter',\n",
       " 'float',\n",
       " 'format',\n",
       " 'frozenset',\n",
       " 'get_ipython',\n",
       " 'getattr',\n",
       " 'globals',\n",
       " 'hasattr',\n",
       " 'hash',\n",
       " 'help',\n",
       " 'hex',\n",
       " 'id',\n",
       " 'input',\n",
       " 'int',\n",
       " 'isinstance',\n",
       " 'issubclass',\n",
       " 'iter',\n",
       " 'len',\n",
       " 'license',\n",
       " 'list',\n",
       " 'locals',\n",
       " 'map',\n",
       " 'max',\n",
       " 'memoryview',\n",
       " 'min',\n",
       " 'next',\n",
       " 'object',\n",
       " 'oct',\n",
       " 'open',\n",
       " 'ord',\n",
       " 'pow',\n",
       " 'print',\n",
       " 'property',\n",
       " 'range',\n",
       " 'repr',\n",
       " 'reversed',\n",
       " 'round',\n",
       " 'set',\n",
       " 'setattr',\n",
       " 'slice',\n",
       " 'sorted',\n",
       " 'staticmethod',\n",
       " 'str',\n",
       " 'sum',\n",
       " 'super',\n",
       " 'tuple',\n",
       " 'type',\n",
       " 'vars',\n",
       " 'zip']"
      ]
     },
     "execution_count": 41,
     "metadata": {},
     "output_type": "execute_result"
    }
   ],
   "source": [
    "dir(__builtins__)"
   ]
  },
  {
   "cell_type": "markdown",
   "metadata": {},
   "source": [
    "- 함수의 input: parameter(매개변수) & argument(인자)\n",
    "    - argument 실제 입력값이고 매개변수는 전달값\n",
    "- 함수의 output: return\n",
    "    - return은 오직 객체 하나만 반환\n",
    "    - 두 개 이상은 tuple 형태로 반환\n",
    "    - print는 None Type 반환이므로 반환하지 못함\n",
    "    "
   ]
  },
  {
   "cell_type": "code",
   "execution_count": 42,
   "metadata": {},
   "outputs": [],
   "source": [
    "# 기본인자는 맨 마지막 위치, 아니면 직접 키워드인자 설정 해주기"
   ]
  },
  {
   "cell_type": "markdown",
   "metadata": {},
   "source": [
    "- 가변 인자(Arbitary Argument): tuple 형태로 처리\n",
    "    - def func(a, b, *args):\n",
    "- 가변 키워드 인자(Arbitary Keyword Arguments): dict 형태로 처리\n",
    "    - def func(**kwargs):"
   ]
  },
  {
   "cell_type": "code",
   "execution_count": 44,
   "metadata": {},
   "outputs": [
    {
     "name": "stdout",
     "output_type": "stream",
     "text": [
      "희은\n",
      "태영\n",
      "존경하는 교수님 탁\n"
     ]
    }
   ],
   "source": [
    "def students(*args, prof):\n",
    "    for student in args:\n",
    "        print(student)\n",
    "    print(f'존경하는 교수님 {prof}')\n",
    "    \n",
    "# 가변 이후의 변수는 직접 키워드 인자로 활용\n",
    "students('희은', '태영', prof = '탁')"
   ]
  },
  {
   "cell_type": "code",
   "execution_count": 46,
   "metadata": {},
   "outputs": [
    {
     "data": {
      "text/plain": [
       "{'한국어': '안녕', '영어': 'hi', '독일어': 'Guten Tak'}"
      ]
     },
     "execution_count": 46,
     "metadata": {},
     "output_type": "execute_result"
    }
   ],
   "source": [
    "def my_dict(**kwargs):\n",
    "    return kwargs\n",
    "\n",
    "my_dict(한국어='안녕', 영어='hi', 독일어='Guten Tak')"
   ]
  },
  {
   "cell_type": "markdown",
   "metadata": {},
   "source": [
    "- Scope\n",
    "    - 우선순위: Local > Enclosed > Global > Builtin\n",
    "    - 각자 Scope를 지키는 것이 최고지만 Global 영역을 local에서 바꾸고 싶으면 global 사용"
   ]
  },
  {
   "cell_type": "markdown",
   "metadata": {},
   "source": [
    "## Ch06~07 Data Structure"
   ]
  },
  {
   "cell_type": "markdown",
   "metadata": {},
   "source": [
    "- 메서드\n",
    "    - 조회\n",
    "        + find: 첫 번째 위치 or -1\n",
    "        + index: 첫 번째 위치 or 오류\n",
    "        + count: 원하는 값의 개수 확인\n",
    "    - 값 변경\n",
    "        + replace(old, new, count)\n",
    "        + strip(): 좌/우 기준 특정 문자 제거 or 공백 제거\n",
    "        + split\n",
    "        + join: ','.join(words)\n",
    "    - 문자 변형\n",
    "        + upper\n",
    "        + lower\n",
    "    - 정렬\n",
    "        + sort\n",
    "        + reverse(): 반환값 없고 원래 list 반대로 정렬\n",
    "    - list\n",
    "        + append\n",
    "        + extend: 한 글자씩\n",
    "        + insert\n",
    "        + remove: 값 기준\n",
    "        + pop: index 기준\n",
    "    - set\n",
    "        + add\n",
    "        + update: 한 글자씩\n",
    "        + remove: 값 제거 or 에러 발생\n",
    "        + discard: 값 제거 or 에러 발생 x\n",
    "    - dict\n",
    "        + get\n",
    "        + pop: key 값 기준으로 제거\n",
    "        + update: key 값 기준으로 추가\n",
    "        + dict.keys() / dict.values() / dict.items()"
   ]
  },
  {
   "cell_type": "markdown",
   "metadata": {},
   "source": [
    "## Ch9~11: OOP"
   ]
  },
  {
   "cell_type": "code",
   "execution_count": null,
   "metadata": {},
   "outputs": [],
   "source": [
    "- 우리가 알아야 하는 것:\n",
    "    + type\n",
    "    + class\n",
    "        - 요정신, 인간신, 난쟁이신\n",
    "        - 클래스 매서드에만 접근\n",
    "        - class -> meta\n",
    "    + object\n",
    "        - 요정신 type의 instance, 인간신 type의 instance, 난쟁이신 type의 instance\n",
    "        - class도 object\n",
    "    + instance\n",
    "        - 레골라스, 아라곤, 감리\n",
    "        - 인스턴스 매서드에만 접근\n",
    "    + attribue\n",
    "        - 키가 크다. 똑똑하다. 키가 작다\n",
    "    + method\n",
    "        - 활 쏘기, 칼 쓰기, 연장질\n",
    "        - 매직메서드\n",
    "            - 생성자: def __init__(self):\n",
    "            - 소멸자: def __del__(self):\n",
    "            - 출력 for 인간: def __str__(self):\n",
    "                                return '출력할 내용'\n",
    "            - 반환 for 기계: def __repr__(self):\n",
    "                                return '반환할 내용'\n",
    "        - 종류:\n",
    "            - 인스턴스 method\n",
    "                + 호출시 첫 번째 인자로 인스턴스 자신 self 전달\n",
    "            - 클래스 method\n",
    "                + 호출시 첫 번째 인자로 클래스 cls 전달\n",
    "            - 스태틱 method\n",
    "                + 호출시 인자 전달 X\n",
    "                \n",
    "- 대략적으로 설명하면 Class는 붕어빵틀, object는 붕어빵이다.\n",
    "- 객체의 3가지 특징:\n",
    "    + 타입(int, str, list, dict)\n",
    "    + 속성(데이터)\n",
    "    + 조작법(행위(함수)를 할 수 있는지)\n",
    "- 인스턴스:\n",
    "    + 특정 타입의 실제 예시(instance)\n",
    "    + 파이썬에서 모든 것은 객체이고, 모든 객체는 특정 타입의 인스턴스이다\n",
    "```python\n",
    "a = 10\n",
    "b = 20\n",
    "# a, b 는 객체이며 int타입(type)의 인스턴스\n",
    "```\n",
    "- type과 class의 차이점\n",
    "    - type: 공통 속성을 가진 객체들의 분류(class)\n",
    "    - class: 객체들의 분류(class)를 정의할 때 쓰이는 키워드\n",
    "        - 즉 class가 공통 속성일 때 type이라고 부름"
   ]
  },
  {
   "cell_type": "markdown",
   "metadata": {},
   "source": [
    "- 상속:\n",
    "    + super().__init__(self를 제외한 인자)\n",
    "    + 메서드 오버라이딩: 상속받은 클래스에서 같은 이름의 매서드 재정의\n",
    "    + 접근순서: 인스턴스 > 자식클라스 > 부모클라스 > 메타클라스\n",
    "        "
   ]
  },
  {
   "cell_type": "markdown",
   "metadata": {},
   "source": [
    "- Scope와 Class\n",
    "    + legb 와 class~instance는 별개의 영역"
   ]
  },
  {
   "cell_type": "code",
   "execution_count": null,
   "metadata": {},
   "outputs": [],
   "source": []
  }
 ],
 "metadata": {
  "kernelspec": {
   "display_name": "Python 3",
   "language": "python",
   "name": "python3"
  },
  "language_info": {
   "codemirror_mode": {
    "name": "ipython",
    "version": 3
   },
   "file_extension": ".py",
   "mimetype": "text/x-python",
   "name": "python",
   "nbconvert_exporter": "python",
   "pygments_lexer": "ipython3",
   "version": "3.8.7"
  }
 },
 "nbformat": 4,
 "nbformat_minor": 4
}
